{
 "cells": [
  {
   "cell_type": "code",
   "execution_count": 1,
   "metadata": {},
   "outputs": [],
   "source": [
    "import chromadb\n",
    "from langchain.embeddings import HuggingFaceEmbeddings\n",
    "from langchain.vectorstores import Chroma\n",
    "import pandas as pd\n",
    "\n",
    "# Load tech stack data from CSV\n",
    "tech_stack_df = pd.read_csv('tech_stack.csv')\n",
    "\n",
    "# Initialize ChromaDB client\n",
    "client = chromadb.Client()\n",
    "collection = client.create_collection(name=\"tech_stack_portfolio\")\n",
    "\n",
    "# Initialize HuggingFace embeddings\n",
    "model_name = \"sentence-transformers/all-MiniLM-L6-v2\"\n",
    "embeddings = HuggingFaceEmbeddings(model_name=model_name)\n",
    "\n",
    "# Add tech stack data to ChromaDB\n",
    "for index, row in tech_stack_df.iterrows():\n",
    "    tech_stack = row['Tech Stack']\n",
    "    url = row['Portfolio Website']\n",
    "    \n",
    "    # Generate embeddings for Tech Stack and URL\n",
    "    embeddings_list = embeddings.embed_documents([tech_stack, url])\n",
    "    tech_stack_embedding = embeddings_list[0]\n",
    "    url_embedding = embeddings_list[1]\n",
    "    \n",
    "    # Insert into ChromaDB collection\n",
    "    collection.add(\n",
    "        documents=[tech_stack, url],\n",
    "        embeddings=[tech_stack_embedding, url_embedding],\n",
    "        metadatas=[{\"tech_stack\": tech_stack, \"url\": url}, {\"tech_stack\": tech_stack, \"url\": url}],\n",
    "        ids=[f\"{index}_tech_stack\", f\"{index}_url\"]\n",
    "    )\n",
    "\n",
    "# Query the collection\n",
    "query = \"Python, Django\"\n",
    "query_embedding = embeddings.embed_documents([query])[0]\n",
    "\n",
    "# Retrieve the most similar documents from ChromaDB\n",
    "results = collection.query(\n",
    "    query_embeddings=[query_embedding],\n",
    "    n_results=5  # Number of top results to return\n",
    ")\n",
    "\n",
    "# Output the results\n",
    "for result in results['documents']:\n",
    "    print(f\"Tech Stack: {result[0]}, Portfolio URL: {result[1]}\")"
   ]
  }
 ],
 "metadata": {
  "kernelspec": {
   "display_name": "venv1",
   "language": "python",
   "name": "python3"
  },
  "language_info": {
   "codemirror_mode": {
    "name": "ipython",
    "version": 3
   },
   "file_extension": ".py",
   "mimetype": "text/x-python",
   "name": "python",
   "nbconvert_exporter": "python",
   "pygments_lexer": "ipython3",
   "version": "3.9.21"
  }
 },
 "nbformat": 4,
 "nbformat_minor": 2
}